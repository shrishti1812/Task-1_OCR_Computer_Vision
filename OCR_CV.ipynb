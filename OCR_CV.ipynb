{
 "cells": [
  {
   "cell_type": "code",
   "execution_count": 1,
   "id": "8611a504",
   "metadata": {},
   "outputs": [],
   "source": [
    "# NAME : SRISHTI PATWAL , LINKEDIN URL :  https://www.linkedin.com/in/shrishti-patwal-9a6bb3207"
   ]
  },
  {
   "cell_type": "code",
   "execution_count": 2,
   "id": "be383976",
   "metadata": {},
   "outputs": [],
   "source": [
    "# Task#1: Text recognition from image (COMPUTER VISION AND IOT)."
   ]
  },
  {
   "cell_type": "code",
   "execution_count": 3,
   "id": "418aca46",
   "metadata": {},
   "outputs": [
    {
     "name": "stdout",
     "output_type": "stream",
     "text": [
      "Requirement already satisfied: pytesseract in c:\\users\\shiva\\anaconda3\\lib\\site-packages (0.3.8)\n",
      "Requirement already satisfied: Pillow in c:\\users\\shiva\\anaconda3\\lib\\site-packages (from pytesseract) (8.2.0)\n"
     ]
    }
   ],
   "source": [
    "!pip install pytesseract"
   ]
  },
  {
   "cell_type": "code",
   "execution_count": 4,
   "id": "429600fd",
   "metadata": {},
   "outputs": [],
   "source": [
    "# Importing necessary libraries\n",
    "import cv2\n",
    "import pytesseract\n",
    "from PIL import Image"
   ]
  },
  {
   "cell_type": "code",
   "execution_count": 5,
   "id": "752f507f",
   "metadata": {},
   "outputs": [],
   "source": [
    "pytesseract.pytesseract.tesseract_cmd=r\"C:/Program Files/Tesseract-OCR/tesseract.exe\""
   ]
  },
  {
   "cell_type": "code",
   "execution_count": null,
   "id": "15b298b6",
   "metadata": {},
   "outputs": [],
   "source": [
    "# Reading image\n",
    "img = cv2.imread(\"C:/Users/shiva/Downloads/sample10.png\")\n",
    "# Convert to RGB\n",
    "img = cv2.cvtColor(img, cv2.COLOR_BGR2RGB)\n",
    "# Show the Output\n",
    "cv2.imshow(\"Output\", img)\n",
    "cv2.waitKey(0)"
   ]
  },
  {
   "cell_type": "code",
   "execution_count": 63,
   "id": "cab866dc",
   "metadata": {},
   "outputs": [
    {
     "name": "stdout",
     "output_type": "stream",
     "text": [
      "allis better with friends\n",
      "Saturday at 4pm\n",
      "\n",
      "“A good friend is like a four-leaf\n",
      "clover; hard to find and lucky to have.”\n",
      "\n",
      " \n",
      "\n",
      " \n",
      "\n",
      " \n",
      "\n",
      "GOOD TIMES\n",
      "\n",
      " \n",
      "\f",
      "\n"
     ]
    }
   ],
   "source": [
    "# Detect texts from image\n",
    "texts = pytesseract.image_to_string(img)\n",
    "print(texts)"
   ]
  },
  {
   "cell_type": "code",
   "execution_count": 64,
   "id": "cadb957c",
   "metadata": {},
   "outputs": [
    {
     "name": "stdout",
     "output_type": "stream",
     "text": [
      "a 231 679 255 702 0\n",
      "l 257 679 267 715 0\n",
      "l 271 679 281 715 0\n",
      "i 292 679 302 714 0\n",
      "s 305 679 323 702 0\n",
      "b 333 679 380 715 0\n",
      "e 360 679 382 715 0\n",
      "t 382 679 398 710 0\n",
      "t 400 679 415 710 0\n",
      "e 415 679 438 702 0\n",
      "r 440 679 461 702 0\n",
      "w 470 679 501 702 0\n",
      "i 501 679 518 714 0\n",
      "t 522 679 538 710 0\n",
      "h 539 679 564 715 0\n",
      "f 574 679 594 715 0\n",
      "r 592 679 613 702 0\n",
      "i 614 679 624 714 0\n",
      "e 626 679 649 702 0\n",
      "n 651 679 676 702 0\n",
      "d 678 679 702 715 0\n",
      "s 704 679 722 702 0\n",
      "S 510 615 528 638 0\n",
      "a 521 609 537 638 0\n",
      "t 529 615 552 636 0\n",
      "u 554 615 568 631 0\n",
      "r 571 615 579 631 0\n",
      "d 579 615 594 637 0\n",
      "a 596 615 611 632 0\n",
      "y 612 609 625 631 0\n",
      "a 634 615 649 632 0\n",
      "t 649 615 657 636 0\n",
      "4 666 616 681 637 0\n",
      "p 683 609 698 632 0\n",
      "m 700 615 723 632 0\n",
      "“ 268 594 276 599 0\n",
      "A 276 581 292 599 0\n",
      "g 301 575 314 594 0\n",
      "o 316 581 330 594 0\n",
      "o 324 575 339 600 0\n",
      "d 332 581 360 600 0\n",
      "f 370 581 374 600 0\n",
      "r 370 581 388 600 0\n",
      "i 390 581 394 600 0\n",
      "e 397 581 409 594 0\n",
      "n 407 581 416 600 0\n",
      "d 411 581 439 600 0\n",
      "i 449 581 451 600 0\n",
      "s 449 581 465 600 0\n",
      "l 474 581 479 600 0\n",
      "i 481 581 486 600 0\n",
      "k 488 581 500 600 0\n",
      "e 502 581 514 594 0\n",
      "a 522 581 533 594 0\n",
      "f 543 581 552 600 0\n",
      "o 552 581 566 594 0\n",
      "u 569 581 581 594 0\n",
      "r 577 581 589 600 0\n",
      "- 584 581 599 594 0\n",
      "l 603 581 607 600 0\n",
      "e 609 581 621 594 0\n",
      "a 622 581 634 594 0\n",
      "f 636 581 645 600 0\n",
      "c 267 558 277 571 0\n",
      "l 280 558 284 577 0\n",
      "o 286 558 300 571 0\n",
      "v 302 558 314 571 0\n",
      "e 309 556 321 577 0\n",
      "r 315 558 337 571 0\n",
      "; 340 556 345 571 0\n",
      "h 354 558 366 577 0\n",
      "a 369 558 380 571 0\n",
      "r 383 558 391 571 0\n",
      "d 392 558 405 577 0\n",
      "t 415 558 423 574 0\n",
      "o 425 558 438 571 0\n",
      "f 447 558 456 577 0\n",
      "i 457 558 461 577 0\n",
      "n 465 558 477 571 0\n",
      "d 479 558 492 577 0\n",
      "a 501 558 513 571 0\n",
      "n 516 558 528 571 0\n",
      "d 530 558 543 577 0\n",
      "l 553 558 557 577 0\n",
      "u 560 558 573 571 0\n",
      "c 575 558 585 571 0\n",
      "k 588 558 600 577 0\n",
      "y 601 553 613 571 0\n",
      "t 622 558 630 575 0\n",
      "o 631 558 645 571 0\n",
      "h 655 558 667 577 0\n",
      "a 669 558 680 571 0\n",
      "v 675 558 690 577 0\n",
      "e 683 558 695 571 0\n",
      ". 696 558 708 571 0\n",
      "” 710 558 724 576 0\n",
      "~ 0 686 170 693 0\n",
      "~ 0 296 1 795 0\n",
      "~ 0 142 530 479 0\n",
      "G 282 47 340 113 0\n",
      "O 343 47 404 113 0\n",
      "O 409 47 470 113 0\n",
      "D 473 48 536 112 0\n",
      "T 555 48 610 112 0\n",
      "I 614 48 641 112 0\n",
      "M 644 48 714 112 0\n",
      "E 717 48 767 112 0\n",
      "S 773 47 819 113 0\n",
      "~ 247 0 871 1 0\n",
      "\n"
     ]
    }
   ],
   "source": [
    "# Return each detected character and their bounding boxes. \n",
    "boxes = pytesseract.image_to_boxes(img)\n",
    "print(boxes)"
   ]
  },
  {
   "cell_type": "code",
   "execution_count": 65,
   "id": "38b284f9",
   "metadata": {},
   "outputs": [],
   "source": [
    "def draw_boxes_on_character(img):\n",
    "    img_width = img.shape[1]\n",
    "    img_height = img.shape[0]\n",
    "    boxes = pytesseract.image_to_boxes(img)\n",
    "    for box in boxes.splitlines():\n",
    "        box = box.split(\" \")\n",
    "        character = box[0]\n",
    "        x = int(box[1])\n",
    "        y = int(box[2])\n",
    "        x2 = int(box[3])\n",
    "        y2 = int(box[4])\n",
    "        cv2.rectangle(img, (x, img_height - y), (x2, img_height - y2), (0, 255, 0), 1)\n",
    " \n",
    "        cv2.putText(img, character, (x, img_height -y2), cv2.FONT_HERSHEY_COMPLEX, 1, (0, 0, 255), 1)\n",
    "    return img\n",
    " \n",
    "img = draw_boxes_on_character(img)"
   ]
  },
  {
   "cell_type": "code",
   "execution_count": 66,
   "id": "6c7ee1f9",
   "metadata": {},
   "outputs": [
    {
     "data": {
      "text/plain": [
       "-1"
      ]
     },
     "execution_count": 66,
     "metadata": {},
     "output_type": "execute_result"
    }
   ],
   "source": [
    "# Show the Output\n",
    "cv2.imshow(\"Output\", img)\n",
    "cv2.waitKey(0)"
   ]
  },
  {
   "cell_type": "code",
   "execution_count": 67,
   "id": "b36614b2",
   "metadata": {},
   "outputs": [
    {
     "name": "stdout",
     "output_type": "stream",
     "text": [
      "level\tpage_num\tblock_num\tpar_num\tline_num\tword_num\tleft\ttop\twidth\theight\tconf\ttext\n",
      "1\t1\t0\t0\t0\t0\t0\t0\t871\t795\t-1\t\n",
      "2\t1\t1\t0\t0\t0\t0\t59\t732\t179\t-1\t\n",
      "3\t1\t1\t1\t0\t0\t0\t59\t732\t183\t-1\t\n",
      "4\t1\t1\t1\t1\t0\t0\t59\t723\t58\t-1\t\n",
      "5\t1\t1\t1\t1\t1\t0\t55\t31\t73\t78.643539\t~\n",
      "5\t1\t1\t1\t1\t2\t231\t59\t93\t58\t58.294052\talli\n",
      "5\t1\t1\t1\t1\t3\t333\t59\t129\t58\t0.000000\tbebtée\n",
      "5\t1\t1\t1\t1\t4\t470\t59\t95\t58\t64.379967\tWith\n",
      "5\t1\t1\t1\t1\t5\t574\t59\t149\t58\t33.509071\tends\n",
      "4\t1\t1\t1\t2\t0\t280\t137\t452\t63\t-1\t\n",
      "5\t1\t1\t1\t2\t1\t280\t180\t12\t16\t88.791046\tA\n",
      "5\t1\t1\t1\t2\t2\t307\t182\t40\t18\t0.000000\toch,\n",
      "5\t1\t1\t1\t2\t3\t377\t174\t49\t21\t35.881752\tfiadl,\n",
      "5\t1\t1\t1\t2\t4\t485\t137\t49\t58\t32.280045\toe\n",
      "5\t1\t1\t1\t2\t5\t650\t137\t82\t50\t33.049713\tbape\n",
      "4\t1\t1\t1\t3\t0\t655\t197\t71\t41\t-1\t\n",
      "5\t1\t1\t1\t3\t1\t270\t181\t270\t58\t13.703400\tSee\n",
      "5\t1\t1\t1\t3\t2\t368\t177\t60\t88\t19.556694\tAP\n",
      "5\t1\t1\t1\t3\t3\t561\t215\t86\t27\t38.044106\tREE\n",
      "5\t1\t1\t1\t3\t4\t655\t197\t71\t41\t48.643127\thak:\n",
      "2\t1\t2\t0\t0\t0\t373\t352\t495\t232\t-1\t\n",
      "3\t1\t2\t1\t0\t0\t373\t350\t498\t234\t-1\t\n",
      "4\t1\t2\t1\t1\t0\t396\t352\t472\t203\t-1\t\n",
      "5\t1\t2\t1\t1\t1\t396\t352\t130\t203\t83.182411\t2\n",
      "5\t1\t2\t1\t1\t2\t674\t354\t194\t103\t40.767067\tSs\n",
      "4\t1\t2\t1\t2\t0\t373\t517\t101\t67\t-1\t\n",
      "5\t1\t2\t1\t2\t1\t373\t517\t101\t67\t49.862499\tWN\n",
      "2\t1\t3\t0\t0\t0\t343\t605\t477\t144\t-1\t\n",
      "3\t1\t3\t1\t0\t0\t343\t605\t477\t144\t-1\t\n",
      "4\t1\t3\t1\t1\t0\t343\t605\t477\t144\t-1\t\n",
      "5\t1\t3\t1\t1\t1\t343\t605\t194\t144\t74.670471\tOOD\n",
      "5\t1\t3\t1\t1\t2\t555\t661\t265\t88\t96.323265\tTIMES\n",
      "2\t1\t4\t0\t0\t0\t439\t174\t1\t66\t-1\t\n",
      "3\t1\t4\t1\t0\t0\t439\t174\t1\t66\t-1\t\n",
      "4\t1\t4\t1\t1\t0\t439\t174\t1\t66\t-1\t\n",
      "5\t1\t4\t1\t1\t1\t439\t174\t1\t66\t95.000000\t \n",
      "2\t1\t5\t0\t0\t0\t0\t314\t531\t5\t-1\t\n",
      "3\t1\t5\t1\t0\t0\t0\t314\t531\t5\t-1\t\n",
      "4\t1\t5\t1\t1\t0\t0\t314\t531\t5\t-1\t\n",
      "5\t1\t5\t1\t1\t1\t0\t314\t531\t5\t95.000000\t \n",
      "2\t1\t6\t0\t0\t0\t0\t0\t3\t499\t-1\t\n",
      "3\t1\t6\t1\t0\t0\t0\t0\t3\t499\t-1\t\n",
      "4\t1\t6\t1\t1\t0\t0\t0\t3\t499\t-1\t\n",
      "5\t1\t6\t1\t1\t1\t0\t0\t3\t499\t95.000000\t \n",
      "2\t1\t7\t0\t0\t0\t0\t316\t390\t340\t-1\t\n",
      "3\t1\t7\t1\t0\t0\t0\t316\t390\t340\t-1\t\n",
      "4\t1\t7\t1\t1\t0\t2\t316\t388\t172\t-1\t\n",
      "5\t1\t7\t1\t1\t1\t2\t316\t388\t172\t95.000000\t \n",
      "4\t1\t7\t1\t2\t0\t0\t488\t343\t168\t-1\t\n",
      "5\t1\t7\t1\t2\t1\t0\t488\t343\t168\t95.000000\t \n",
      "2\t1\t8\t0\t0\t0\t529\t316\t3\t338\t-1\t\n",
      "3\t1\t8\t1\t0\t0\t529\t316\t3\t338\t-1\t\n",
      "4\t1\t8\t1\t1\t0\t529\t316\t3\t338\t-1\t\n",
      "5\t1\t8\t1\t1\t1\t529\t316\t3\t338\t95.000000\t \n",
      "2\t1\t9\t0\t0\t0\t0\t651\t531\t5\t-1\t\n",
      "3\t1\t9\t1\t0\t0\t0\t651\t531\t5\t-1\t\n",
      "4\t1\t9\t1\t1\t0\t0\t651\t531\t5\t-1\t\n",
      "5\t1\t9\t1\t1\t1\t0\t651\t531\t5\t95.000000\t \n",
      "2\t1\t10\t0\t0\t0\t282\t661\t58\t86\t-1\t\n",
      "3\t1\t10\t1\t0\t0\t282\t661\t58\t86\t-1\t\n",
      "4\t1\t10\t1\t1\t0\t282\t661\t58\t86\t-1\t\n",
      "5\t1\t10\t1\t1\t1\t282\t661\t58\t86\t47.899479\tpi\n",
      "2\t1\t11\t0\t0\t0\t282\t682\t1\t67\t-1\t\n",
      "3\t1\t11\t1\t0\t0\t282\t682\t1\t67\t-1\t\n",
      "4\t1\t11\t1\t1\t0\t282\t682\t1\t67\t-1\t\n",
      "5\t1\t11\t1\t1\t1\t282\t682\t1\t67\t95.000000\t \n",
      "2\t1\t12\t0\t0\t0\t340\t682\t1\t67\t-1\t\n",
      "3\t1\t12\t1\t0\t0\t340\t682\t1\t67\t-1\t\n",
      "4\t1\t12\t1\t1\t0\t340\t682\t1\t67\t-1\t\n",
      "5\t1\t12\t1\t1\t1\t340\t682\t1\t67\t95.000000\t \n",
      "2\t1\t13\t0\t0\t0\t282\t748\t59\t1\t-1\t\n",
      "3\t1\t13\t1\t0\t0\t282\t748\t59\t1\t-1\t\n",
      "4\t1\t13\t1\t1\t0\t282\t748\t59\t1\t-1\t\n",
      "5\t1\t13\t1\t1\t1\t282\t748\t59\t1\t95.000000\t \n",
      "2\t1\t14\t0\t0\t0\t0\t764\t6\t24\t-1\t\n",
      "3\t1\t14\t1\t0\t0\t0\t764\t6\t24\t-1\t\n",
      "4\t1\t14\t1\t1\t0\t0\t764\t6\t24\t-1\t\n",
      "5\t1\t14\t1\t1\t1\t0\t764\t6\t24\t95.000000\t \n",
      "2\t1\t15\t0\t0\t0\t247\t793\t624\t2\t-1\t\n",
      "3\t1\t15\t1\t0\t0\t247\t793\t624\t2\t-1\t\n",
      "4\t1\t15\t1\t1\t0\t247\t793\t624\t2\t-1\t\n",
      "5\t1\t15\t1\t1\t1\t247\t793\t624\t2\t95.000000\t \n",
      "\n"
     ]
    }
   ],
   "source": [
    "# Return raw information about the detected texts\n",
    "raw_data = pytesseract.image_to_data(img)\n",
    "print(raw_data )"
   ]
  },
  {
   "cell_type": "code",
   "execution_count": 68,
   "id": "2862a363",
   "metadata": {},
   "outputs": [],
   "source": [
    "def draw_boxes_on_text(img):\n",
    "    # Return raw information about the detected texts\n",
    "    raw_data = pytesseract.image_to_data(img)\n",
    "    for count, data in enumerate(raw_data.splitlines()):\n",
    "        if count > 0:\n",
    "            data = data.split()\n",
    "            if len(data) == 12:\n",
    "                x, y, w, h, content = int(data[6]), int(data[7]), int(data[8]), int(data[9]), data[11]\n",
    "                cv2.rectangle(img, (x, y), (w+x, h+y), (0, 255, 0), 1)\n",
    "                cv2.putText(img, content, (x, y), cv2.FONT_HERSHEY_COMPLEX, 1, (0, 0, 255) , 1)\n",
    "                return img\n",
    " \n",
    "img = draw_boxes_on_text(img)"
   ]
  },
  {
   "cell_type": "code",
   "execution_count": 69,
   "id": "26e3bb31",
   "metadata": {},
   "outputs": [
    {
     "data": {
      "text/plain": [
       "-1"
      ]
     },
     "execution_count": 69,
     "metadata": {},
     "output_type": "execute_result"
    }
   ],
   "source": [
    "# Show the Output\n",
    "cv2.imshow(\"Output\", img)\n",
    "cv2.waitKey(0)"
   ]
  },
  {
   "cell_type": "code",
   "execution_count": 70,
   "id": "8c22f342",
   "metadata": {},
   "outputs": [],
   "source": [
    "import string\n",
    "conf = r'-c tessedit_char_whitelist='+string.ascii_letters"
   ]
  },
  {
   "cell_type": "code",
   "execution_count": 71,
   "id": "59bef646",
   "metadata": {},
   "outputs": [],
   "source": [
    "conf = r'-c tessedit_char_whitelist='+string.digits"
   ]
  },
  {
   "cell_type": "code",
   "execution_count": 72,
   "id": "a4d2149f",
   "metadata": {},
   "outputs": [
    {
     "data": {
      "text/plain": [
       "-1"
      ]
     },
     "execution_count": 72,
     "metadata": {},
     "output_type": "execute_result"
    }
   ],
   "source": [
    "# Show the Output\n",
    "cv2.imshow(\"Output\", img)\n",
    "cv2.waitKey(0)"
   ]
  },
  {
   "cell_type": "code",
   "execution_count": 73,
   "id": "473600dd",
   "metadata": {},
   "outputs": [],
   "source": [
    "# THANK YOU"
   ]
  },
  {
   "cell_type": "code",
   "execution_count": null,
   "id": "2207747c",
   "metadata": {},
   "outputs": [],
   "source": []
  }
 ],
 "metadata": {
  "kernelspec": {
   "display_name": "Python 3",
   "language": "python",
   "name": "python3"
  },
  "language_info": {
   "codemirror_mode": {
    "name": "ipython",
    "version": 3
   },
   "file_extension": ".py",
   "mimetype": "text/x-python",
   "name": "python",
   "nbconvert_exporter": "python",
   "pygments_lexer": "ipython3",
   "version": "3.8.8"
  }
 },
 "nbformat": 4,
 "nbformat_minor": 5
}
